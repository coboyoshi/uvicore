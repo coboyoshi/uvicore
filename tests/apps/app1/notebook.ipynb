{
 "cells": [
  {
   "cell_type": "code",
   "execution_count": null,
   "metadata": {
    "tags": []
   },
   "outputs": [],
   "source": [
    "# Add uvicore/tests/apps path to sys.path\n",
    "import sys\n",
    "apps_path = os.path.realpath('../')\n",
    "if apps_path not in sys.path: sys.path.append(apps_path)"
   ]
  },
  {
   "cell_type": "code",
   "execution_count": null,
   "metadata": {},
   "outputs": [],
   "source": [
    "# Bootstrap the Uvicore application\n",
    "import uvicore\n",
    "from app1.services import bootstrap\n",
    "app = bootstrap.application(is_console=True)"
   ]
  },
  {
   "cell_type": "code",
   "execution_count": null,
   "metadata": {},
   "outputs": [],
   "source": [
    "# Import common modules\n",
    "from uvicore.support.dumper import dump, dd"
   ]
  },
  {
   "cell_type": "code",
   "execution_count": null,
   "metadata": {
    "tags": []
   },
   "outputs": [],
   "source": [
    "dump(app.packages)"
   ]
  },
  {
   "cell_type": "code",
   "execution_count": 8,
   "metadata": {
    "tags": []
   },
   "outputs": [
    {
     "output_type": "stream",
     "name": "stdout",
     "text": "[\n    app1.models.post.PostModel(\n        id=1,\n        slug='test-post1',\n        title='Test Post1',\n        other='other stuff1',\n        cb='test-post1 callback',\n        creator_id=1,\n        creator=None,\n        comments=[\n            app1.models.comment.CommentModel(\n                id=1,\n                title='Post1 Comment1',\n                body='Body for post1 comment1',\n                post_id=1,\n                post=None\n            ),\n            app1.models.comment.CommentModel(\n                id=2,\n                title='Post1 Comment2',\n                body='Body for post1 comment2',\n                post_id=1,\n                post=None\n            )\n        ],\n        tags=None\n    ),\n    app1.models.post.PostModel(\n        id=2,\n        slug='test-post2',\n        title='Test Post2',\n        other=None,\n        cb='test-post2 callback',\n        creator_id=1,\n        creator=None,\n        comments=[],\n        tags=None\n    ),\n    app1.models.post.PostModel(\n        id=3,\n        slug='test-post3',\n        title='Test Post3',\n        other='other stuff2',\n        cb='test-post3 callback',\n        creator_id=2,\n        creator=None,\n        comments=[\n            app1.models.comment.CommentModel(\n                id=3,\n                title='Post3 Comment1',\n                body='Body for post3 comment1',\n                post_id=3,\n                post=None\n            ),\n            app1.models.comment.CommentModel(\n                id=4,\n                title='Post3 Comment2',\n                body='Body for post3 comment2',\n                post_id=3,\n                post=None\n            ),\n            app1.models.comment.CommentModel(\n                id=5,\n                title='Post3 Comment3',\n                body='Body for post3 comment3',\n                post_id=3,\n                post=None\n            )\n        ],\n        tags=None\n    ),\n    app1.models.post.PostModel(\n        id=4,\n        slug='test-post4',\n        title='Test Post4',\n        other=None,\n        cb='test-post4 callback',\n        creator_id=2,\n        creator=None,\n        comments=[],\n        tags=None\n    ),\n    app1.models.post.PostModel(\n        id=5,\n        slug='test-post5',\n        title='Test Post5',\n        other=None,\n        cb='test-post5 callback',\n        creator_id=2,\n        creator=None,\n        comments=[],\n        tags=None\n    ),\n    app1.models.post.PostModel(\n        id=6,\n        slug='test-post6',\n        title='Test Post6',\n        other='other stuff3',\n        cb='test-post6 callback',\n        creator_id=5,\n        creator=None,\n        comments=[],\n        tags=None\n    ),\n    app1.models.post.PostModel(\n        id=7,\n        slug='test-post7',\n        title='Test Post7',\n        other=None,\n        cb='test-post7 callback',\n        creator_id=5,\n        creator=None,\n        comments=[],\n        tags=None\n    )\n]\n"
    }
   ],
   "source": [
    "from app1.models.post import Post\n",
    "\n",
    "posts = await Post.query().include('comments').get()\n",
    "dump(posts)"
   ]
  },
  {
   "cell_type": "code",
   "execution_count": null,
   "metadata": {},
   "outputs": [],
   "source": []
  }
 ],
 "metadata": {
  "language_info": {
   "codemirror_mode": {
    "name": "ipython",
    "version": 3
   },
   "file_extension": ".py",
   "mimetype": "text/x-python",
   "name": "python",
   "nbconvert_exporter": "python",
   "pygments_lexer": "ipython3",
   "version": "3.8.2-final"
  },
  "orig_nbformat": 2,
  "kernelspec": {
   "name": "python38264bituvicoreas3jf75bpy38venvaf99ce564d7e4d81afe9ab1a885c4c6f",
   "display_name": "Python 3.8.2 64-bit ('uvicore-As3Jf75b-py3.8': venv)"
  }
 },
 "nbformat": 4,
 "nbformat_minor": 2
}